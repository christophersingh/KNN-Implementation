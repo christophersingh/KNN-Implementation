{
 "cells": [
  {
   "cell_type": "markdown",
   "metadata": {},
   "source": [
    "## Classification with KNN"
   ]
  },
  {
   "cell_type": "markdown",
   "metadata": {},
   "source": [
    "In this lecture we will use KNN to classify the NYT article and compare the results with Naive Bayes"
   ]
  },
  {
   "cell_type": "markdown",
   "metadata": {},
   "source": [
    "## Loading and preprocessing articles"
   ]
  },
  {
   "cell_type": "code",
   "execution_count": null,
   "metadata": {},
   "outputs": [],
   "source": [
    "import operator\n",
    "import nltk\n",
    "from nltk.tokenize import word_tokenize\n",
    "from nltk.corpus import stopwords\n",
    "from sklearn.feature_extraction.text import TfidfVectorizer\n",
    "from sklearn.metrics.pairwise import cosine_similarity"
   ]
  },
  {
   "cell_type": "markdown",
   "metadata": {},
   "source": [
    "Define text preprocessing function"
   ]
  },
  {
   "cell_type": "code",
   "execution_count": 3,
   "metadata": {},
   "outputs": [],
   "source": [
    "def remove_punctuation(text):\n",
    "    punctuations = \".,\\\"-\\\\/#!?$%\\^&\\*;:{}=\\-_'~()\"    \n",
    "    filtered_text = [token for token in text if (not token in punctuations)]\n",
    "    return filtered_text\n",
    "\n",
    "def apply_stopwording(text, min_len):\n",
    "    filtered_text = [token for token in text if (not token in stopwords.words('english') and len(token)>min_len)]\n",
    "    return filtered_text\n",
    "\n",
    "def apply_stemming(text):\n",
    "    stemmer = nltk.PorterStemmer()\n",
    "    normalized_text = [stemmer.stem(token) for token in text]\n",
    "    return normalized_text\n",
    "\n",
    "def apply_lemmatization(text):\n",
    "    lemmatizer = nltk.WordNetLemmatizer()\n",
    "    normalized_text = [lemmatizer.lemmatize(token) for token in text]\n",
    "    return normalized_text"
   ]
  },
  {
   "cell_type": "markdown",
   "metadata": {},
   "source": [
    "Load and preprocess the articles in the training set"
   ]
  },
  {
   "cell_type": "code",
   "execution_count": 5,
   "metadata": {},
   "outputs": [
    {
     "name": "stdout",
     "output_type": "stream",
     "text": [
      "['excerpt', 'interview', 'rapper', 'kendrick', 'lamar', 'discus', 'critically', 'acclaimed', 'album', 'pimp', 'butterfly', 'recent', 'grammy', 'nomination']\n",
      "['york', 'time', 'critic', 'manohla', 'dargis', 'scott', 'stephen', 'holden', 'list', 'pick', 'oscar-worthy', 'film', 'performance', '2015']\n",
      "['caramanica', 'profile', 'blogger', 'stephen', 'carbone', 'posting', 'spoiler', 'reality', 'show', 'bachelor', 'past', 'four', 'year', 'website', 'realitysteve.com', 'reflects', 'show', 'begin', '20th', 'season', 'carbone', 'continues', 'information', 'source']\n",
      "['adam', 'mckay', 'director', 'co-writer', 'caper', 'movie', 'short', 'discus', 'used', 'humor', 'explain', 'complicated', 'aspect', '2008', 'housing', 'banking', 'crisis']\n",
      "['zachary', 'woolfe', 'offer', 'highlight', 'season', 'amazon', 'original', 'series', 'mozart', 'jungle', 'starring', 'gael', 'garcia', 'bernal', 'show', 'feature', 'behind-the-scenes', 'look', 'semi-fictional', 'york', 'symphony', 'orchestra']\n",
      "['pareles', 'review', 'latest', 'album', 'songwriter', 'miya', 'folick', 'singer', 'ruby', 'amanfu', 'electronic', 'music', 'producer', 'kode9', 'british', 'singer', 'shirley', 'collins', 'xylophonist', 'kakraba']\n",
      "['manhattan', 'theater', 'club', 'production', 'richard', 'greenberg', 'play', 'mother', 'brief', 'affair', 'open', 'samuel', 'friedman', 'theater', 'brings', 'together', 'theater', 'stalwart', 'greenberg', 'actress', 'linda', 'lavin', 'director', 'lynne', 'meadow']\n",
      "['playwright', 'dominique', 'morisseau', 'pay', 'homage', 'hometown', 'detroit', 'play', 'skeleton', 'crew', 'final', 'work', 'prizewinning', 'detroit', 'trilogy', 'drama', 'staged', 'atlantic', 'theater', 'company', '2008', 'focus', 'worker', 'city', 'last', 'remaining', 'auto', 'plant']\n",
      "['choreographer', 'annie', 'parson', 'dance', 'concert', 'short', 'form', 'premiere', 'kitchen', 'celebrates', '25th', 'anniversary', 'company', 'dance', 'theater', 'program', 'work', 'feature', 'performance', 'husband', 'paul', 'lazar', 'onstage', 'birthday', 'party', 'intermission']\n",
      "['wesley', 'morris', 'discus', 'four', 'worthy', 'movie', '2015', 'likely', 'ignored', 'oscar', 'season', 'list', 'includes', 'creed', 'result', 'woman', 'gold', 'danny', 'collins']\n",
      "['actress', 'brie', 'larson', 'portrayed', 'woman', 'imprisoned', 'sexual', 'predator', 'movie', 'room', 'midst', 'monthslong', 'press', 'campaign', 'movie', 'award', 'season', 'already', 'received', 'golden', 'globe', 'nomination', 'could', 'receive', 'leading', 'actress', 'oscar']\n",
      "['manohla', 'dargis', 'scott', 'discus', 'field', 'potential', 'oscar', 'nominee', 'reflect', 'blockbuster', 'represented', 'many', '2015', 'best', 'movie']\n",
      "['charles', 'play', 'glory', 'world', 'opening', 'brooklyn', 'academy', 'music', 'explores', 'life', '20th-century', 'american', 'catholic', 'thinker', 'thomas', 'merton', 'production', 'directed', 'water', 'financed', 'cockrum', 'former', 'episcopal', 'monk', 'million', '2014', 'lottery']\n",
      "['snapshot', 'interview', 'playwright', 'lauren', 'gunderson', 'discus', 'breakthrough', 'play', 'making', 'york', 'debut', '59e59', 'theater']\n",
      "['clove', 'galilee', 'directs', 'mabou', 'mine', 'trick', 'saddle', 'production', 'play', 'imagining', 'imaginary', 'invalid', 'inspired', 'moliere', 'comedy', 'imaginary', 'invalid', 'mama', 'show', 'feature', 'homage', 'french', 'playwright', 'actress', 'ruth', 'maleczech', 'galilee', 'mother', 'helped', 'conceive', 'starred', 'original', 'workshop', 'production', 'dying', 'cancer', '2013']\n",
      "['pareles', 'review', 'latest', 'album', 'producer-singer', 'country', 'singer', 'chris', 'young', 'rapper', 'wiki', 'also', 'review', 'book', 'definition', 'life', 'ice-t', 'birth', 'darlene', 'ortiz', 'memoir', 'opinion', 'rapper', 'mall']\n",
      "['profile', 'in-demand', 'songwriting', 'team', 'julia', 'michael', 'justin', 'tranter', 'worked', 'newcomer', 'established', 'musical', 'act']\n",
      "['craig', 'gillespie', 'film', 'finest', 'hour', 'chronicle', 'real-life', 'story', 'four', 'coast', 'guard', 'crewman', 'rescued', 'stranded', 'sailor', 'tanker', 'broke', 'apart', 'terrible', 'storm', 'coast', 'cape', '1952']\n",
      "['acclaimed', 'british', 'actress', 'maggie', 'smith', 'discus', 'latest', 'role', 'playing', 'eccentric', 'homeless', 'woman', 'nicholas', 'hytner', 'movie', 'lady', 'film', 'inspired', 'personal', 'experience', 'smith', 'longtime', 'friend', 'playwright', 'alan', 'bennett']\n",
      "['frick', 'collection', 'yearlong', 'collaboration', 'ghetto', 'film', 'school', 'high', 'school-age', 'filmmaker', 'south', 'bronx', 'access', 'museum', 'collection', 'help', 'make', 'story', 'closely', 'observed', 'philanthropy', 'museum', 'world', 'hope', 'strategy', 'successful', 'used', 'help', 'improve', 'audience', 'staff', 'diversity', 'cultural', 'institution']\n",
      "['excerpt', 'conversation', 'producer', 'star', 'mini-series', 'people', 'simpson', 'american', 'crime', 'story', 'discus', 'series', 'issue', 'raise']\n",
      "['magician', 'ricky', 'book', 'matthias', 'buchinger', 'greatest', 'german', 'living', 'explores', 'fascination', '18th-century', 'german', 'calligrapher', 'born', 'without', 'hand', 'foot', 'grew', 'inch', 'tall', 'also', 'lent', 'private', 'collection', 'buchinger', 'memorabilia', 'drawing', 'metropolitan', 'museum', 'upcoming', 'exhibit']\n",
      "['tony-nominated', 'actor', 'steven', 'boyer', 'reflects', 'upon', 'life', 'broadway', 'play', 'hand', 'played', 'starring', 'role', 'ended']\n",
      "['pianist', 'ballet', 'company', 'offer', 'often', 'unnoticed', 'vital', 'contribution', 'dance', 'performance']\n",
      "['excerpt', 'conversation', 'caroline', 'polachek', 'patrick', 'wimberly', 'member', 'brooklyn', 'electronic', 'chairlift', 'discus', 'latest', 'album', 'moth']\n",
      "['profile', 'film', 'television', 'producer', 'packer', 'whose', 'latest', 'production', 'ride', 'along', 'starring', 'kevin', 'hart']\n",
      "['artist', 'louise', 'bourgeois', 'west', '20th', 'street', 'townhouse', 'turned', 'exhibition', 'gallery', 'library', 'archive', 'since', 'death', '2010', 'maintained', 'state', 'bohemian', 'dilapidation', 'owner', 'alive']\n",
      "['trisha', 'brown', 'dance', 'company', 'effort', 'reinvent', 'trisha', 'brown', 'stepped', 'remounting', 'choreographer', 'dance', 'piece', 'site-specific', 'location', 'around', 'world', 'including', 'upcoming', 'appearance', 'brooklyn', 'academy', 'music']\n",
      "['actor', 'david', 'duchovny', 'gillian', 'anderson', 'prepare', 'reprise', 'iconic', 'role', 'mulder', 'dana', 'scully', 'network', 'much-anticipated', 'six-episode', 'revival', 'popular', '1990s', 'series', 'x-files']\n",
      "['snapshot', 'interview', 'kelly', 'zutrau', 'songwriter', 'singer', 'band', 'discus', 'band', 'debut', 'album', 'group', 'plan', 'touring']\n",
      "[\"o'brien\", 'play', 'body', 'american', 'opening', 'february', 'cherry', 'lane', 'theater', 'inspired', 'work', 'canadian', 'reporter', 'photographer', 'paul', 'watson']\n",
      "['thomas', 'kail', 'director', 'broadway', 'musical', 'hamilton', 'also', 'directing', 'live', 'musical', 'grease', 'hope', 'avoid', 'pitfall', 'television', 'production', 'live', 'theater', 'incorporating', 'live', 'audience', 'using', 'set', 'inside', 'outside']\n",
      "['fan', 'worried', 'american', 'remake', 'pascal', 'laugier', '2008', 'french-language', 'horror', 'film', 'martyr', 'considered', 'disturbing', 'movie', 'ever', 'made', 'watered', 'sanitized']\n",
      "['filmmaker', 'journalist', 'laura', 'poitras', 'planning', 'exhibit', 'astro', 'noise', 'feature', 'descrambled', 'image', 'government', 'surveillance', 'apparatus', 'whitney', 'museum', 'american']\n",
      "['goodman', 'theater', 'adapts', 'chilean', 'writer', 'roberto', 'bolano', 'famously', 'enigmatic', '900-page', 'novel', '2666', 'five-hour-long', 'play', 'name']\n",
      "['profile', 'elton', 'john', 'preparing', '33rd', 'studio', 'album', 'wonderful', 'crazy', 'night', 'accompanying', 'tour', '2017', 'celebrate', '50th', 'anniversary', 'professional', 'partnership', 'songwriter', 'lyricist', 'bernie', 'taubin']\n",
      "['snapshot', 'interview', 'actress', 'caity', 'lotz', 'reprising', 'comic-book', 'role', 'sara', 'lance', 'series', 'legend', 'tomorrow']\n",
      "['director', 'todd', 'haynes', 'discus', 'image', 'book', 'compendium', 'taken', 'photograph', 'film', 'still', 'painting', 'magazine', 'among', 'source', 'used', 'help', 'create', 'visual', 'feel', 'period', 'film', 'carol']\n",
      "['excerpt', 'conversation', 'playwright', 'actor', 'shepard', 'returned', 'york', 'group', 'revival', '1978', 'play', 'buried', 'child']\n",
      "['mini-series', 'madoff', 'starring', 'richard', 'dreyfus', 'blythe', 'danner', 'several', 'coming', 'show', 'movie', 'exploring', 'life', 'reviled', 'criminal', 'mastermind']\n",
      "['rupert', 'holmes', 'creator', 'nearly-forgotten', 'comedy-drama', 'series', 'remember', 'wenn', 'reminisces', 'show', 'year', 'premiere', 'series', 'world', 'ii-era', 'radio', 'station', 'four', 'season', 'cancelled']\n",
      "['chilean', 'director', 'pablo', 'larrain', 'latest', 'film', 'club', 'offer', 'personal', 'look', 'life', 'priest', 'removed', 'post', 'variety', 'sin', 'even', 'crime']\n",
      "['profile', 'actor', 'josh', 'brolin', 'shed', 'bad-boy', 'reputation', 'recent', 'year', 'taking', 'role', 'critically', 'acclaimed', 'film', 'latest', 'project', 'include', 'ethan', 'joel', 'coen', 'movie', 'hail', 'caesar', 'forthcoming', 'film', 'legacy', 'whitetail', 'deer', 'hunter']\n",
      "['swiss', 'artist', 'peter', 'fischli', 'david', 'wei', 'used', 'humor', 'explore', 'human', 'condition', 'throughout', '30-year-plus', 'partnership', 'subject', 'guggenheim', 'museum', 'retrospective', 'work', 'better']\n",
      "['many', 'theater', 'actress', 'forging', 'close', 'sister-like', 'bond', 'offstage', 'number', 'tightly-knit', 'sister', 'relationship', 'portrayed', 'york', 'stage', 'grows']\n",
      "['camille', 'brown', 'face', 'many', 'challenge', 'choreographer', 'city', 'center', 'encore', 'revival', 'little-seen', '1940', 'musical', 'cabin']\n",
      "['best-selling', 'controversial', 'comic-book', 'artist', 'liefeld', 'reach', 'even', 'wider', 'audience', 'movie', 'adaptation', '1991', 'story', 'deadpool', 'starring', 'ryan', 'reynolds', 'mutant', 'mercenary']\n",
      "['hoberman', 'review', 'video', 'release', 'hsiao-hsien', 'film', 'assassin', 'asif', 'kapadia', 'documentary', 'film', 'sean', 'baker', 'film', 'tangerine']\n",
      "['snapshot', 'interview', 'comedian', 'deon', 'cole', 'discus', 'role', 'television', 'comedy', 'show', 'black-ish', 'angie', 'tribeca']\n",
      "['animated', 'short', 'film', 'sanjay', 'super', 'team', 'nominated', 'best', 'animated', 'short', 'oscar', 'diverse', 'nominee', 'year', 'academy', 'award', 'race', 'directed', 'indian-american', 'sanjay', 'patel', 'explores', 'clash', 'immigrant', 'father', 'assimilated']\n",
      "['snapshot', 'interview', 'york', 'city', 'ballet', 'soloist', 'taylor', 'stanley', 'star', 'justin', 'peck', 'latest', 'piece', 'incredible', 'thing']\n",
      "['photographer', 'frederic', 'brenner', 'image', 'israel', 'west', 'bank', 'featured', 'group', 'exhibit', 'place', 'brooklyn', 'museum']\n",
      "['boston', 'modern', 'orchestra', 'project', 'founder', 'conductor', 'rose', 'celebrate', 'year', 'promoting', 'neglected', 'music', 'performance', 'recording', 'produced', 'in-house', 'record', 'label', 'recommendation', 'five', 'album', 'recorded', 'group', 'noted']\n",
      "['lucia', 'aniello', 'paul', 'down', 'couple', 'writes', 'comedy', 'central', 'series', 'broad', 'city', 'describe', 'come', 'much', 'show', 'slapstick', 'feminist', 'humor']\n",
      "['former', 'teen', 'heartthrob', 'ralph', 'macchio', 'channel', 'past', 'upcoming', 'abingdon', 'theater', 'company', 'production', 'charles', 'messina', 'coming-of-age', 'play', 'room']\n",
      "['stephen', 'hopkins', 'movie', 'race', 'starring', 'stephan', 'james', 'chronicle', 'sprinter', 'jesse', 'owen', 'four', 'gold', 'medal', '1936', 'berlin', 'olympics']\n",
      "['caramanica', 'note', 'noah', 'shebib', 'musical', 'partner', 'hip-hop', 'artist', 'drake', 'say', 'latest', 'album', 'view', 'going', 'exactly', 'fan', 'expect', 'lot', 'introspection', 'combined', 'flow', 'boundary', 'pushing']\n",
      "['ratliff', 'note', 'musician', 'anthony', 'braxton', 'reveals', 'zeal', 'jazz', 'classical', 'composition', 'upcoming', 'release', 'three', 'different', 'boxed', 'set', 'music']\n",
      "['pareles', 'observes', 'spring', 'music', 'festival', 'moogfest', 'durham', 'ear', 'knoxville', 'tenn', 'manana', 'cuba', 'offer', 'exciting', 'lineup', 'established', 'act', 'promising', 'newcomer']\n",
      "['profile', 'british', 'documentary', 'photographer', 'paul', 'graham', 'whose', 'work', 'featuring', 'retrospective', 'pier', 'francisco']\n",
      "['filmmaker', 'robert', 'egger', 'great', 'attention', 'detail', 'movie', 'witch', 'england', 'folktale', 'brings', 'audience', 'back', '17th', 'century', 'help', 'bring', 'story', 'alive', 'roundup', 'witch-themed', 'production', 'noted']\n",
      "['brandon', 'thorp', 'examines', 'performance', 'black', 'artist', 'received', 'oscar', 'nomination', 'best', 'actress', 'actor']\n",
      "['minnesota', 'orchestra', 'damaging', '16-month', 'lockout', 'ended', 'january', '2014', 'rebounding', 'guidance', 'music', 'director', 'osmo', 'vanska', 'president', 'chief', 'executive', 'kevin', 'smith', 'much', 'work', 'remains', 'done', 'however', 'ensure', 'orchestra', 'longevity']\n",
      "['play', 'initiative', 'sponsored', 'college', 'athletic', 'conference', 'aim', 'foster', 'woman', 'theater', 'commissioning', 'several', 'play', 'woman', 'feature', 'multiple', 'female', 'role']\n",
      "['angeles', 'artist', 'john', 'baldessari', 'turned', 'away', 'pop-cultural', 'touchstone', 'typified', 'early', 'work', 'paying', 'tribute', 'modern', 'master', 'incorporating', 'detail', 'work']\n",
      "['interview', 'laura', 'benanti', 'jane', 'krakowski', 'gavin', 'creel', 'zachary', 'levi', 'lead', 'roundabout', 'theater', 'company', 'revival', 'musical', 'love', 'discus', 'creative', 'process', 'collaborative', 'dynamic', 'production']\n",
      "['stephen', 'petronio', 'company', 'performance', 'trisha', 'brown', 'dance', 'glacial', 'decoy', 'centerpiece', 'annual', 'joyce', 'theater', 'residency', 'part', 'petronio', 'bloodline', 'project', 'honor', 'influential', 'artist', 'preserve', 'important', 'work', 'modern', 'postmodern', 'dance']\n",
      "['actor', 'jeff', 'daniel', 'comment', 'role', 'david', 'harrower', 'play', 'blackbird', 'first', 'played', '2007', 'off-broadway', 'production', 'reprising', 'broadway', 'revival', 'say', 'disturbing', 'nature', 'character', 'requires', 'high', 'level', 'emotional', 'commitment']\n",
      "['reclusive', 'director', 'terrence', 'malick', 'establishes', 'hollywood', 'insider', 'depicting', 'machination', 'film', 'industry', 'movie', 'knight', 'cup', 'starring', 'christan', 'bale', 'rootless', 'screenwriter']\n",
      "['retirement', 'hayao', 'miyazaki', 'isao', 'takahata', 'founder', 'revered', 'japanese', 'animation', 'house', 'studio', 'ghibli', 'raise', 'question', 'fill', 'void', 'several', 'rising', 'anime', 'director', 'potential', 'contender']\n",
      "['hoberman', 'revisits', 'leni', 'riefenstahl', 'film', 'triumph', 'ambiguity', 'regarding', 'place', 'documentary', 'nazi', 'propaganda', 'light', 'recent', 'reissue', 'synapse', 'film']\n",
      "['highlight', 'dylan', 'archive', 'listed']\n",
      "['stephen', 'karam', 'play', 'human', 'latest', 'thought-provoking', 'theatrical', 'work', 'depicting', 'emotional', 'hardship', 'experienced', 'america', 'economically-challenged', 'middle', 'class']\n",
      "['star', 'gwen', 'stefani', 'describes', 'writing', 'song', 'latest', 'album', 'truth', 'feel', 'like', 'helped', 'work', 'breakup', '13-year', 'marriage', 'gavin', 'rossdale']\n",
      "['several', 'current', 'filmmaker', 'using', 'vague', 'theme', 'spirituality', 'faith', 'belief', 'anchor', 'movie', 'keep', 'audience', 'guessing', 'jeff', 'nichols', 'midnight', 'special', 'karyn', 'kusama', 'invitation', 'latest', 'example', 'trend']\n",
      "['edited', 'excerpt', 'conversation', 'director', 'richard', 'linklater', 'whose', 'latest', 'film', 'everybody', 'want', 'open', 'south', 'southwest', 'film', 'festival', 'hometown', 'austin']\n",
      "['actor', 'david', 'tennant', 'play', 'lead', 'royal', 'shakespeare', 'production', 'richard', 'open', 'brooklyn', 'academy', 'music', 'best', 'known', 'starring', 'role', 'several', 'popular', 'science', 'fiction', 'mystery', 'superhero', 'television', 'series', 'deep', 'theatrical', 'root']\n",
      "['caramanica', 'recall', 'atlanta', 'rapper', 'bankroll', 'fresh', 'country', 'singer', 'joey', 'feek', 'died', 'march', 'note', 'significant', 'contribution', 'made', 'genre', 'outside', 'mainstream']\n",
      "['mireille', 'enos', 'actress', 'played', 'plain-faced', 'troubled', 'television', 'show', 'killing', 'say', 'glamorous', 'upbeat', 'character', 'series', 'catch', 'better', 'reflects', 'true', 'personality']\n",
      "['songwriter', 'edie', 'brickell', 'multitalented', 'persona', 'steve', 'martin', 'express', 'optimism', 'trepidation', 'upcoming', 'opening', 'musical', 'bright', 'star', 'cort', 'theater', 'show', 'originality', 'earnest', 'tone', 'make', 'outlier', 'broadway', 'field', 'dominated', 'revival', 'familiar', 'material']\n",
      "['former', 'american', 'ballet', 'theater', 'principal', 'angel', 'corella', 'reinventing', 'pennsylvania', 'ballet', 'since', 'becoming', 'artistic', 'director', '2014', 'company', 'arrive', 'joyce', 'theater', 'late', 'march', 'featuring', 'work', 'crafted', 'dancer']\n",
      "['actress', 'melissa', 'rauch', 'play', 'foul-mouthed', 'sex-crazed', 'ex-olympic', 'gymnast', 'dark', 'comedy', 'bronze', 'film', 'rauch', 'co-wrote', 'husband', 'winston', 'rauch', 'explores', 'theme', 'badly-behaved', 'woman', 'wage', 'fame']\n",
      "['director', 'david', 'mcvicar', 'launching', 'fifth', 'metropolitan', 'opera', 'production', 'season', 'become', 'important', 'voice', 'opera', 'seek', 'find', 'creative', 'direction', 'financial', 'footing', 'unique', 'flexible', 'style', 'lie', 'outside', 'battle', 'traditional', 'versus', 'modern', 'staging', 'consumed', 'company']\n",
      "['snapshot', 'interview', 'actress', 'keri', 'russell', 'discus', 'role', 'television', 'show', 'american']\n",
      "['golden', 'globe', 'winning', 'actor', 'cheadle', 'discus', 'portrayal', 'jazz', 'trumpeter', 'composer', 'mile', 'davis', 'film', 'mile', 'ahead', 'directed', 'co-wrote']\n",
      "['breakaway', 'singer', 'zayn', 'malik', 'former', 'member', 'group', 'direction', 'flex', 'chop', 'singer', 'solo', 'debut', 'album', 'mind', 'mine', 'still', 'struggling', 'break', 'highly', 'competitive', 'musical', 'genre']\n",
      "['actor', 'benjamin', 'walker', 'share', 'technique', 'portraying', 'psychotic', 'character', 'patrick', 'bateman', 'upcoming', 'broadway', 'musical', 'american', 'psycho']\n",
      "['hoberman', 'review', 'reissue', 'nagisa', 'oshima', 'movie', 'death', 'hanging', 'blu-ray', 'criterion', 'release', 'robert', 'wise', 'movie', 'want', 'live', 'remastered', 'video', 'release', 'noted']\n",
      "['influential', 'director', 'chantal', 'akerman', 'passed', 'away', 'october', 'celebrated', 'several', 'york', 'city', 'museum', 'throughout', 'april', 'contribution', 'avant', 'garde', 'film', 'explored', 'defining', 'space', 'feminine', 'life', 'employed', 'distinctive', 'style', 'camera', 'work']\n",
      "['hulu', 'introduces', 'first', 'hour-long', 'drama', 'series', 'path', 'written', 'playwright', 'jessica', 'goldberg', 'inspired', 'create', 'plot', 'surrounding', 'faith', 'fuel', 'religious', 'movement']\n",
      "['all-women', 'group', 'show', 'appears', 'make', 'comeback', 'gallery', 'museum', 'cultural', 'entity', 'host', 'schedule', 'women-themed', 'survey', 'artist', 'curator', 'exhibition', 'playing', 'catch', 'decade', 'marginalization', 'promoting', 'fresh', 'face', 'cultivating', 'market']\n",
      "['snapshot', 'interview', 'ashton', 'kutcher', 'discus', 'ranch', 'netflix', 'comedy', 'actor', 'danny', 'masterson', 'created', 'star']\n",
      "['jesse', 'tyler', 'ferguson', 'talk', 'acting', 'broadway', 'revival', 'one-man', 'play', 'fully', 'committed', 'comedy', 'reservationist', 'prominent', 'manhattan', 'restaurant', 'show', 'open', 'limited', 'lyceum', 'theater']\n",
      "['french', 'playwright', 'florian', 'zeller', 'say', 'work', 'father', 'tragic', 'farce', 'senile', 'dementia', 'expressed', 'unraveling', 'thought', 'afflicted', 'manhattan', 'theater', 'club', 'production', 'play', 'scheduled', 'soon', 'open', 'samuel', 'friedman', 'theater', 'frank', 'langella', 'pivotal', 'role']\n",
      "['actor', 'platt', 'discus', 'challenge', 'portraying', 'sympathetic', 'opportunistic', 'title', 'character', 'broadway', 'musical', 'dear', 'evan', 'hansen']\n",
      "['director', 'ilya', 'naishuller', 'make', 'first', 'feature', 'film', 'hardcore', 'henry', 'without', 'star', 'actor', 'preferring', 'viewer', 'experience', 'action', 'main', 'character', 'perspective', 'say', 'ambitious', 'project', 'shot', 'using', 'point-of-view', 'technique', 'required', 'stuntmen', 'specialist', 'gopro', 'action', 'camera', 'dozen', 'visual', 'effect', 'company', 'create']\n",
      "['dave', 'erickson', 'showrunner', 'series', 'fear', 'walking', 'dead', 'announces', 'several', 'major', 'change', 'season', 'including', 'shift', 'plot', 'focus', 'mysterious', 'character', 'change', 'action', 'land']\n",
      "['steven', 'soderbergh', 'executive', 'producer', 'starz', 'series', 'girlfriend', 'experience', 'explains', 'major', 'difference', 'television', 'drama', '2009', 'film', 'girlfriend', 'experience', 'focus', 'prostitution', 'feature', 'different', 'character', 'location']\n",
      "['closer', 'look', 'rare', 'loss', 'best', 'team', 'history', 'suggests', 'golden', 'state', 'warrior', 'chance', 'historic', 'season', 'would', 'considerably', 'star', 'point', 'guard', 'stephen', 'curry', 'remains', 'sideline']\n",
      "['analysis', 'jacksonville', 'jaguar', 'quarterback', 'blake', 'bortles', 'future', 'look', 'bright', 'despite', 'team', 'current', '5-10', 'record', 'rank', 'second', 'passing', 'touchdown', 'behind', 'england', 'patriot', 'quarterback', 'brady', 'sixth', 'passing', 'yard']\n",
      "['preview', 'week', 'matchup']\n",
      "['william', 'rhoden', 'sport', 'time', 'column', 'clemson', 'football', 'coach', 'dabo', 'swinney', 'accused', 'creating', 'culture', 'team', 'go', 'promoting', 'christianity', 'asserts', 'realistic', 'head', 'coach', 'like', 'swinney', 'know', 'important', 'part', 'game', 'save', 'young', 'soul']\n",
      "['roundup', 'milwaukee', 'buck', 'defeat', 'indiana', 'pacer', '120-116', 'basketball', 'score', 'news', 'noted']\n",
      "['college', 'basketball', 'roundup', 'villanova', 'college', 'basketball', 'team', 'defeat', 'xavier', '95-64', 'woman', 'score', 'noted']\n",
      "['boston', 'pride', 'national', 'woman', 'hockey', 'league', 'tie', 'canadiennes', 'canadian', 'woman', 'hockey', 'league', 'inaugural', 'outdoor', 'woman', 'classic', 'gillette', 'stadium', 'pride', 'player', 'denna', 'laing', 'injured', 'losing', 'footing', 'raising', 'concern', 'condition', 'questioned', 'earlier']\n",
      "['university', 'california', 'quarterback', 'jared', 'goff', 'skip', 'senior', 'year', 'enter', '2016', 'draft', 'news', 'noted']\n",
      "['espn', 'report', 'viewership', 'college', 'football', 'playoff', 'semifinal', 'game', 'played', 'year', 'dropped', 'drastically', 'compared', 'last', 'season', 'game', 'played', 'year']\n",
      "['chicago', 'bull', 'defeat', 'york', 'knicks', '108-81']\n",
      "['washington', 'wizard', 'beat', 'orlando', 'magic', '103-91', 'basketball', 'score', 'noted']\n",
      "['roundup', 'ohio', 'state', 'defeat', 'notre', 'dame', '44-28', 'fiesta', 'bowl', 'bowl', 'game', 'noted']\n",
      "['keeping', 'score', 'column', 'note', 'york', 'knicks', 'continue', 'play', 'slow-paced', 'game', 'despite', 'run-and-gun', 'style', 'golden', 'state', 'warrior', 'fast-breaking', 'team']\n",
      "['york', 'giant', 'coach', 'coughlin', 'preparing', 'final', 'game', 'giant', 'head', 'coach', 'held', 'since', '2004']\n",
      "['college', 'football', 'roundup', 'texas', 'christian', 'defeat', 'oregon', '47-41', 'alamo', 'bowl', 'bowl', 'game', 'noted']\n",
      "['roundup', 'jersey', 'devil', 'defeat', 'dallas', 'star', 'overtime', 'hockey', 'score', 'noted']\n",
      "['united', 'state', 'defeat', 'czech', 'republic', 'quarterfinal', 'world', 'junior', 'hockey', 'championship']\n",
      "['denver', 'bronco', 'defeat', 'diego', 'charger', '27-20', 'seed', 'seal', 'first-round', 'home', 'field', 'advantage', 'playoff']\n",
      "['roundup', 'york', 'islander', 'defeat', 'dallas', 'star', 'hockey', 'score', 'noted']\n",
      "['york', 'giant', 'fail', 'last', 'game', 'coach', 'coughlin', 'announced', 'retirement', 'could', 'soon', 'leave', 'philadelphia', 'eagle', 'hold', 'give', 'interim', 'coach', 'shurmur', 'first']\n",
      "['william', 'rhoden', 'sport', 'time', 'column', 'hold', 'york', 'jet', 'season-ending', 'loss', 'buffalo', 'bill', 'revives', 'debate', 'starting', 'quarterback', 'next', 'season', 'note', '11-year', 'veteran', 'ryan', 'fitzpatrick', 'threw', 'three', 'interception', 'looked', 'confused', 'throughout', 'game']\n",
      "['ford', 'center', 'star', 'dallas', 'cowboy', 'headquarters', 'frisco', 'include', 'training', 'facility', 'practice', 'field', 'office', 'indoor', 'stadium', 'shared', 'eight', 'local', 'high', 'school', 'project', 'also', 'includes', 'entertainment', 'retail', 'district', 'built', 'blue', 'star', 'land', 'development', 'company', 'owned', 'family', 'team', 'owner', 'jerry', 'jones']\n",
      "['zinedine', 'zidane', 'midfielder', 'france', 'world', 'named', 'head', 'coach', 'real', 'madrid', 'replace', 'rafael', 'benitez', 'limited', 'coaching', 'experience']\n",
      "['york', 'jet', 'quarterback', 'ryan', 'fitzpatrick', 'likely', 'stay', 'team', 'coming', 'season', 'despite', '22-17', 'loss', 'buffalo', 'ended', 'hope', 'postseason', 'pending', 'free', 'agency']\n",
      "['cleveland', 'brown', 'make', 'move', 'precedent', 'hiring', 'york', 'mets', 'executive', 'paul', 'depodesta', 'chief', 'strategy', 'officer', 'former', 'harvard', 'athlete', 'featured', 'michael', 'lewis', 'book', 'moneyball', 'hope', 'replicate', 'success', 'mets', 'front', 'office', 'resulted', '2015', 'world', 'series', 'appearance']\n",
      "['coughlin', 'single', 'quarterback', 'manning', 'praise', 'emotional', 'final', 'address', 'york', 'giant', 'coach', 'leaf', 'football', 'future', 'including', 'possible', 'organization', 'front', 'office', 'open', 'speculation']\n",
      "['michael', 'powell', 'sport', 'time', 'column', 'question', 'credibility', 'charles', 'recently', 'recanted', 'statement', 'made', 'undercover', 'jazeera', 'journalist', 'detailing', 'alleged', 'doping', 'regimen', 'handful', 'high-profile', 'professional', 'athlete']\n",
      "['tyler', 'kepner', 'baseball', 'column', 'recount', 'series', 'event', 'almost', 'brought', 'outfielder', 'griffey', 'york', 'mets', '2000', 'indirectly', 'team', 'signing', 'current', 'third', 'baseman', 'david', 'wright']\n",
      "['recent', 'success', 'denmark', 'junior', 'hockey', 'team', 'reflects', 'revamped', 'approach', 'danish', 'hockey', 'union', 'development', 'country', 'young', 'player']\n",
      "['analysis', 'matchup', 'first', 'round', 'playoff']\n",
      "['york', 'knicks', 'beat', 'atlanta', 'hawk', '107-101']\n",
      "['david', 'waldstein', 'baseball', 'column', 'hold', 'former', 'catcher', 'mike', 'piazza', 'recently', 'elected', 'baseball', 'hall', 'fame', 'sharp', 'field', 'field', 'note', 'piazza', 'yearned', 'rock', 'star', 'would', 'often', 'spin', 'record', 'radio', 'studio', 'game']\n",
      "['tyler', 'kepner', 'baseball', 'column', 'recall', 'memorable', 'home', 'run', 'hall', 'fame', 'inductee', 'griffey', 'mike', 'piazza', 'neither', 'world', 'series', 'describes', 'back-to-back', 'home', 'run', 'griffey', 'father', 'griffey', 'playing', 'together', 'seattle', 'mariner', '1990', 'two-run', 'homer', 'piazza', 'shea', 'stadium', 'first', 'york', 'game', 'sept', 'terrorist', 'attack']\n",
      "['washington', 'capital', 'defeat', 'york', 'islander']\n",
      "['patrick', 'reed', 'take', 'lead', 'hyundai', 'tournament', 'champion', 'golf', 'tournament', 'kapalua', 'hawaii']\n",
      "['preview', '2016', 'wild-card', 'playoff', 'round']\n",
      "['roundup', 'orlando', 'magic', 'defeat', 'brooklyn', 'net', '83-77', 'basketball', 'score', 'noted']\n",
      "['boston', 'bruin', 'beat', 'jersey', 'devil', 'franchise', '3,000th', 'hockey', 'news', 'noted']\n",
      "['andy', 'murray', 'plan', 'withdraw', 'australian', 'open', 'tennis', 'tournament', 'wife', 'go', 'labor', 'decision', 'many', 'tennis', 'player', 'support']\n",
      "['washington', 'redskin', 'quarterback', 'kirk', 'cousin', 'preparing', 'host', 'green', 'packer', 'wild-card', 'game', 'first', 'playoff', 'appearance', 'since', '2013', 'rookie', 'sensation', 'robert', 'griffin', 'suffered', 'devastating', 'knee', 'injury', 'franchise', 'griffin', 'recover']\n",
      "['york', 'knicks', 'forward', 'carmelo', 'anthony', 'remains', 'focal', 'point', 'team', 'offense', 'still', 'knicks', 'biggest', 'star', 'trusting', 'teammate', 'getting', 'involved', 'play']\n",
      "['roundup', 'detroit', 'piston', 'defeat', 'brooklyn', 'net', '103-89', 'basketball', 'score', 'noted']\n",
      "['kansa', 'city', 'chief', 'defeat', 'houston', 'texan', '30-0', 'wild-card', 'playoff', 'game']\n",
      "['richard', 'sandomir', 'sport', 'column', 'note', 'network', 'full', 'version', 'super', 'bowl', 'played', '1967', 'assembled', 'film', 'footage']\n",
      "['sample', 'question', 'owner', 'debating', 'regarding', 'team', 'proposal', 'move', 'angeles', 'highlighted']\n",
      "['soccer', 'roundup', 'oxford', 'united', 'defeat', 'swansea', 'city', 'third-round', 'soccer', 'tournament', 'soccer', 'match', 'news', 'noted']\n",
      "['samantha', 'stosur', 'successful', 'australian', 'tennis', 'player', 'achievement', 'comparatively', 'ignored', 'blame', 'sexism', 'australia', 'say', 'humble', 'personality']\n",
      "['york', 'knicks', 'defeat', 'minnesota', 'buck', '100-88']\n",
      "['harvey', 'araton', 'basketball', 'column', 'question', 'brooklyn', 'net', 'owner', 'mikhail', 'prokhorov', 'leadership', 'style', 'team', 'fired', 'coach', 'lionel', 'hollins', 'reassigned', 'general', 'manager', 'billy', 'king', 'say', 'fine', 'line', 'interfering', 'team', 'executive', 'remaining', 'present', 'accountable', 'ultimately', 'occurs']\n",
      "['juliet', 'macur', 'sport', 'time', 'column', 'sympathizes', 'washington', 'redskin', 'fan', 'disappointed', 'team', 'failing', 'prevail', 'green', 'packer', 'wild-card', 'round', 'playoff', 'note', 'home', 'team', 'four', 'game', 'wild-card', 'round', 'lost', 'first', 'time', 'happened', 'since', 'playoff', 'system', 'began', '1990']\n",
      "['brooklyn', 'net', 'owner', 'mikhail', 'prokhorov', 'hold', 'news', 'conference', 'accepts', 'full', 'responsibility', 'team', 'sorry', 'state', 'firing', 'coach', 'lionel', 'hollins', 'demoting', 'general', 'manager', 'billy', 'king']\n",
      "['roundup', 'york', 'giant', 'interview', 'former', 'atlanta', 'falcon', 'coach', 'mike', 'smith', 'express', 'interest', 'cincinnati', 'bengal', 'offensive', 'coordinator', 'jackson', 'search', 'replacement', 'coughlin', 'turn', 'meet', 'philadelphia', 'eagle', 'francisco', '49ers', 'also', 'requested', 'speak', 'coughlin', 'football', 'news', 'noted']\n",
      "['antonio', 'spur', 'defeat', 'brooklyn', 'net', '106-79']\n",
      "['york', 'yankee', 'manager', 'girardi', 'say', 'aroldis', 'chapman', 'enter', 'spring', 'training', 'team', 'closer', 'andrew', 'miller']\n",
      "['alabama', 'defeat', 'clemson', '45-40', 'college', 'football', 'playoff', 'national', 'championship', 'fourth', 'national', 'title', 'seven', 'year']\n",
      "['several', 'atlanta', 'hawk', 'teammate', 'pas', 'time', 'traveling', 'game', 'playing', 'modified', 'version', 'card', 'game']\n",
      "['upcoming', 'report', 'commission', 'appointed', 'world', 'anti-doping', 'agency', 'expected', 'detail', 'widespread', 'corruption', 'among', 'international', 'track', 'field', 'official', 'previous', 'installment', 'report', 'focused', 'russia', 'resulted', 'suspension', 'international', 'competition']\n",
      "['roundup', 'cleveland', 'cavalier', 'beat', 'dallas', 'maverick', '110-107', 'basketball', 'score', 'noted']\n",
      "['roundup', 'seattle', 'seahawks', 'running', 'back', 'marshawn', 'lynch', 'missed', 'past', 'eight', 'game', 'abdominal', 'injury', 'take', 'field', 'practice', 'coach', 'pete', 'carroll', 'give', 'indication', 'whether', 'play', 'upcoming', 'playoff', 'game', 'carolina', 'panther', 'football', 'news', 'noted']\n",
      "['christopher', 'clarey', 'tennis', 'column', 'share', 'list', 'thing', 'would', 'like', 'sport', '2016', 'season', 'approach']\n",
      "['monmouth', 'university', 'basketball', 'guard', 'justin', 'robinson', 'listed', 'foot', 'inch', 'played', 'major', 'role', 'team', 'success', 'averaging', '20.1', 'point', 'game', 'including', 'major-conference', 'team']\n",
      "['roundup', 'francisco', '49ers', 'hire', 'former', 'philadelphia', 'coach', 'chip', 'kelly', 'replace', 'fired', 'head', 'coach', 'tomsula', 'football', 'news', 'noted']\n",
      "['bill', 'pennington', 'football', 'column', 'hold', 'york', 'giant', 'coach', 'mcadoo', 'served', 'team', 'offensive', 'coordinator', 'past', 'year', 'respect', 'former', 'coach', 'coughlin', 'method', 'different', 'philosophy', 'note', 'mcadoo', 'spent', 'majority', 'career', 'watchful', 'green', 'packer', 'coach', 'mike', 'mccarthy']\n",
      "['juliet', 'macur', 'sport', 'time', 'column', 'support', 'suggestion', 'richard', 'pound', 'former', 'chief', 'world', 'anti-doping', 'agency', 'international', 'assn', 'athletics', 'federation', 'president', 'sebastian', 'right', 'clean', 'doping', 'world', 'track', 'field', 'suggests', 'however', 'first', 'allow', 'independent', 'reform', 'committee', 'take', 'iaaf', 'rebuild', 'governance', 'structure', 'return', 'federation', 'like', 'public', 'company']\n",
      "['greatest', 'hoax', 'sport', 'history', 'wall', 'street', 'broker', 'morris', 'newburger', 'played', 'role', 'recounted', '1941', 'newburger', 'known', 'passion', 'sport', 'prank', 'duped', 'number', 'major', 'newspaper', 'including', 'york', 'time', 'reporting', 'entire', 'season', 'score', 'completely', 'fictitious', 'college', 'football', 'team']\n",
      "['nocera', 'sport', 'business', 'column', 'asserts', 'football', 'fan', 'louis', 'mourn', 'departure', 'ram', 'angeles', 'say', 'missouri', 'proposal', 'build', 'stadium', 'louis', 'ram', 'would', 'financially', 'ruinous', 'note', 'still', 'existing', 'debt', 'existing', 'edward', 'jones', 'dome']\n",
      "['triple', 'crown', 'winner', '2015', 'horse', 'year', 'american', 'pharoah', 'breathed', 'life', 'horse', 'racing', 'trying', 'sustain', 'momentum']\n",
      "['leonid', 'zhabotinsky', 'ukrainian-born', 'weight', 'lifter', 'olympic', 'gold', 'medal', '1964', '1968', 'inspired', 'young', 'arnold', 'schwarzenegger', 'dy']\n",
      "['denver', 'bronco', 'cornerback', 'chris', 'harris', 'yielded', 'fewest', 'yard', 'cover', 'snap', 'slot', 'past', 'season', 'impressive', 'statistic', 'demanding', 'position', 'defense']\n",
      "['william', 'rhoden', 'sport', 'time', 'column', 'remembers', 'altee', 'tenpenny', 'rising', 'football', 'star', 'killed', 'crash', 'october', '2015', 'hold', 'tenpenny', 'story', 'promising', 'high', 'school', 'player', 'dwarfed', 'brighter', 'star', 'college', 'struggle', 'flourish', 'many', 'young', 'aspiring', 'football', 'player', 'relate']\n",
      "['york', 'ranger', 'defeat', 'philadelphia', 'flyer', 'shootout', 'ranger', 'goalie', 'henrik', 'lundqvist', 'becomes', 'first', 'goalie', 'history', 'game', 'first', 'season']\n",
      "['roundup', 'jersey', 'devil', 'defeat', 'arizona', 'coyote', 'hockey', 'score', 'noted']\n",
      "['brandt', 'snedeker', 'blair', 'share', 'third-round', 'lead', 'sony', 'open', 'golf', 'tournament']\n",
      "['carolina', 'panther', 'defeat', 'seattle', 'seahawks', '31-24', 'advancing', 'title', 'game']\n",
      "['william', 'rhoden', 'sport', 'time', 'column', 'remark', 'england', 'patriot', 'coach', 'bill', 'belichick', 'singular', 'focus', 'winning', 'team', 'head', 'championship', 'game', 'fifth', 'consecutive', 'year']\n",
      "['denver', 'bronco', 'beat', 'pittsburgh', 'steelers', '23-16', 'advancing', 'championship', 'game']\n",
      "['brother', 'mike', 'bryan', 'tennis', 'double', 'ranking', 'made', 'change', 'off-season', 'habit', 'training', 'method', 'travel', 'schedule', 'winning', 'australian', 'open', 'regaining', 'status']\n",
      "['roundup', 'washington', 'capital', 'beat', 'york', 'ranger', 'hockey', 'score', 'noted']\n",
      "['roundup', 'antonio', 'spur', 'beat', 'dallas', 'maverick', '112-83', 'basketball', 'news', 'noted']\n",
      "['analysis', 'four', 'seed', 'advance', 'conference', 'championship', 'first', 'time', 'since', '2004', 'england', 'patriot', 'face', 'denver', 'bronco', 'arizona', 'cardinal', 'take', 'carolina', 'panther']\n",
      "['york', 'knicks', 'defeat', 'philadelphia', '76ers', '119-113', 'second', 'overtime']\n",
      "['roundup', 'golden', 'state', 'warrior', 'defeat', 'cleveland', 'cavalier', '132-98', 'basketball', 'news', 'noted']\n",
      "['louis', 'blue', 'beat', 'pittsburgh', 'penguin', 'hockey', 'score', 'noted']\n",
      "['harvey', 'araton', 'basketball', 'column', 'suggests', 'york', 'knicks', 'must', 'careful', 'overuse', 'rookie', 'forward', 'kristaps', 'porzingis', 'warns', 'playing', 'porzingis', 'often', 'could', 'lead', 'injury', 'would', 'devastating', 'team', 'failure', 'secure', 'postseason', 'berth']\n",
      "['christopher', 'clarey', 'tennis', 'column', 'examines', 'difficulty', 'proving', 'tennis', 'match-fixing', 'allegation', 'made', 'report', 'published', 'buzzfeed', 'underscore', 'degree', 'tennis', 'integrity', 'unit', 'sport', 'internal', 'watchdog', 'operated', 'dark']\n",
      "['milwaukee', 'buck', 'beat', 'miami', 'heat', '91-79', 'basketball', 'score', 'noted']\n",
      "['keeping', 'score', 'column', 'note', 'introduced', 'three-point', 'line', '1979-80', 'season', 'increasingly', 'important', 'part', 'game', 'ever', 'since']\n",
      "['cleveland', 'cavalier', 'defeat', 'brooklyn', 'net', '91-78']\n",
      "['louis', 'blue', 'defeat', 'detroit', 'wing', 'news', 'noted']\n",
      "['harvey', 'araton', 'basketball', 'column', 'argues', 'intense', 'public', 'scrutiny', 'endured', 'cleveland', 'cavalier', 'forward', 'lebron', 'james', 'partly', 'making', 'suggests', 'james', 'never', 'left', 'cleveland', 'miami', 'heat', 'drama', 'ability', 'championship', 'cavalier', 'would', 'passed']\n",
      "['former', 'tennis', 'player', 'justin', 'gimelstob', 'keep', 'busy', 'australian', 'open', 'coach', 'john', 'isner', 'manager', 'lindsay', 'davenport', 'also', 'serving', 'tour', 'board', 'director', 'producing', 'tour', 'magazine', 'show', 'commentating', 'tennis', 'channel']\n",
      "['florida', 'state', 'attorney', 'office', 'pursue', 'criminal', 'charge', 'york', 'yankee', 'pitcher', 'aroldis', 'chapman', 'major', 'league', 'baseball', 'still', 'investigating', 'domestic', 'abuse', 'accusation', 'made', 'girlfriend', 'could', 'hand', 'penalty', 'could', 'include', 'suspension']\n",
      "['roundup', 'buffalo', 'bill', 'break', 'gender', 'barrier', 'hiring', 'kathryn', 'smith', 'special', 'team', 'quality', 'control', 'coach', 'football', 'news', 'noted']\n",
      "['angeles', 'lakers', 'forward', 'kobe', 'bryant', 'lead', 'voting', 'final', 'all-star', 'game', 'all-stars', 'basketball', 'news', 'noted']\n",
      "['auto', 'firm', 'customizing', 'garage', 'doral', 'go-to', 'business', 'many', 'major', 'league', 'baseball', 'player', 'looking', 'upgrade', 'personalize', 'luxury', 'car', 'vega', 'fastest-selling', 'vehicle', 'custom', 'mercedes', 'limousine', 'feature', 'reclining', 'chair', 'wraparound', 'leather', 'couch', 'big-screen', 'television', 'home', 'theater', 'system']\n",
      "['tennis', 'veteran', 'maria', 'sharapova', 'joined', 'third', 'round', 'australian', 'open', 'four', 'young', 'fellow', 'russian', 'margarita', 'gasparyan', 'daria', 'kasatkina', 'elizaveta', 'kulichkova']\n",
      "['roundup', 'golden', 'state', 'warrior', 'coach', 'steve', 'kerr', 'underwent', 'back', 'operation', 'delaying', 'return', 'court', 'make', 'long-awaited', 'season', 'debut', 'team', '112-120', 'victory', 'indiana', 'pacer', 'basketball', 'score', 'noted']\n",
      "['cleveland', 'cavalier', 'fire', 'head', 'coach', 'david', 'blatt', 'organizational', 'reshuffling', 'began', 'all-star', 'break']\n"
     ]
    }
   ],
   "source": [
    "in_path = 'C:\\\\tmp\\\\'\n",
    "filePrefix = 'training_'\n",
    "categories=['ARTS','SPORTS']\n",
    "training = {}\n",
    "\n",
    "for category in categories:\n",
    "    index=1\n",
    "    # Read articles within category\n",
    "    fileName=in_path+filePrefix+category.lower()\n",
    "    f=open(fileName,'r')\n",
    "    lines=f.readlines()\n",
    "    for line in lines:\n",
    "        text = line.replace('\\n',' ').lower()\n",
    "        tokens = nltk.word_tokenize(text)\n",
    "        training[str(apply_lemmatization(apply_stopwording(remove_punctuation(nltk.Text(tokens)), 3)))]=category\n",
    "    f.close()\n",
    "\n",
    "for key in training.keys():\n",
    "    print (key)"
   ]
  },
  {
   "cell_type": "markdown",
   "metadata": {},
   "source": [
    "Load and preprocess the testing set"
   ]
  },
  {
   "cell_type": "code",
   "execution_count": 7,
   "metadata": {},
   "outputs": [
    {
     "data": {
      "text/plain": [
       "<function TextIOWrapper.close()>"
      ]
     },
     "execution_count": 7,
     "metadata": {},
     "output_type": "execute_result"
    }
   ],
   "source": [
    "f=open('C:\\\\tmp\\\\testing.txt','r')\n",
    "lines=f.readlines()\n",
    "testing=[]\n",
    "for line in lines:\n",
    "    article = line.replace('\\n',' ').split('\\t')\n",
    "    text = article[0].lower()\n",
    "    category = article[1]\n",
    "    tokens = nltk.word_tokenize(text)\n",
    "    key = str(apply_lemmatization(apply_stopwording(remove_punctuation(nltk.Text(tokens)), 3)))\n",
    "    training[key]='NONE-'+category\n",
    "    testing.append(key)\n",
    "f.close"
   ]
  },
  {
   "cell_type": "markdown",
   "metadata": {},
   "source": [
    "## Creating TF-IDF weights"
   ]
  },
  {
   "cell_type": "code",
   "execution_count": 8,
   "metadata": {},
   "outputs": [],
   "source": [
    "tfidf_vectorizer = TfidfVectorizer(min_df=1)\n",
    "articles = training.keys()\n",
    "tfidf = tfidf_vectorizer.fit_transform(articles)"
   ]
  },
  {
   "cell_type": "code",
   "execution_count": 31,
   "metadata": {},
   "outputs": [
    {
     "name": "stdout",
     "output_type": "stream",
     "text": [
      "  (0, 672)\t0.244136553915\n",
      "  (0, 982)\t0.211548746862\n",
      "  (0, 1511)\t0.265935660043\n",
      "  (0, 1040)\t0.30320147811\n",
      "  (0, 1069)\t0.30320147811\n",
      "  (0, 589)\t0.18814464958\n",
      "  (0, 503)\t0.281402371982\n",
      "  (0, 86)\t0.265935660043\n",
      "  (0, 115)\t0.211548746862\n",
      "  (0, 1409)\t0.30320147811\n",
      "  (0, 323)\t0.30320147811\n",
      "  (0, 1532)\t0.253938746228\n",
      "  (0, 838)\t0.30320147811\n",
      "  (0, 1298)\t0.265935660043\n"
     ]
    }
   ],
   "source": [
    "print (tfidf[0])"
   ]
  },
  {
   "cell_type": "code",
   "execution_count": 34,
   "metadata": {},
   "outputs": [
    {
     "data": {
      "text/plain": [
       "array([[ 0.03542598]])"
      ]
     },
     "execution_count": 34,
     "metadata": {},
     "output_type": "execute_result"
    }
   ],
   "source": [
    "cosine_similarity(tfidf[0], tfidf[5])"
   ]
  },
  {
   "cell_type": "markdown",
   "metadata": {},
   "source": [
    "# Sorting a dictionary based on its values"
   ]
  },
  {
   "cell_type": "code",
   "execution_count": 35,
   "metadata": {},
   "outputs": [
    {
     "name": "stdout",
     "output_type": "stream",
     "text": [
      "4\n"
     ]
    }
   ],
   "source": [
    "x = {1: 2, 3: 4, 4: 3, 2: 1, 0: 0}\n",
    "sorted_x = sorted(x.items(), key=operator.itemgetter(1),reverse=True)\n",
    "print (sorted_x[0][1])"
   ]
  },
  {
   "cell_type": "markdown",
   "metadata": {},
   "source": [
    "# Using cosine similarity implement the KNN algorithm"
   ]
  },
  {
   "cell_type": "code",
   "execution_count": 40,
   "metadata": {},
   "outputs": [
    {
     "name": "stdout",
     "output_type": "stream",
     "text": [
      "0.10278515778 [SPORTS]\n",
      "0.192238017693 [SPORTS]\n",
      "0.115250344163 [SPORTS]\n",
      "[('SPORTS', 3)]\n",
      "prediction = SPORTS\n",
      "category   = SPORTS \n",
      "\n",
      "\n",
      "0.0885157152753 [ARTS]\n",
      "0.0988206600417 [SPORTS]\n",
      "0.0822300749936 [SPORTS]\n",
      "[('SPORTS', 2), ('ARTS', 1)]\n",
      "prediction = SPORTS\n",
      "category   = SPORTS \n",
      "\n",
      "\n",
      "0.0830415831227 [ARTS]\n",
      "0.0706610457625 [SPORTS]\n",
      "0.05103333634 [SPORTS]\n",
      "[('SPORTS', 2), ('ARTS', 1)]\n",
      "prediction = SPORTS\n",
      "category   = SPORTS \n",
      "\n",
      "\n",
      "0.220457093854 [SPORTS]\n",
      "0.151390567347 [SPORTS]\n",
      "0.0919252018526 [SPORTS]\n",
      "[('SPORTS', 3)]\n",
      "prediction = SPORTS\n",
      "category   = SPORTS \n",
      "\n",
      "\n",
      "0.0625619433805 [SPORTS]\n",
      "0.0613347325872 [SPORTS]\n",
      "0.080447248163 [SPORTS]\n",
      "[('SPORTS', 3)]\n",
      "prediction = SPORTS\n",
      "category   = SPORTS \n",
      "\n",
      "\n",
      "0.0612025765068 [ARTS]\n",
      "0.134909892245 [SPORTS]\n",
      "0.0934321555493 [SPORTS]\n",
      "[('SPORTS', 2), ('ARTS', 1)]\n",
      "prediction = SPORTS\n",
      "category   = ARTS \n",
      "\n",
      "\n",
      "0.0939350844199 [ARTS]\n",
      "0.059172856273 [ARTS]\n",
      "0.0691552934454 [ARTS]\n",
      "[('ARTS', 3)]\n",
      "prediction = ARTS\n",
      "category   = ARTS \n",
      "\n",
      "\n",
      "0.0840197822632 [ARTS]\n",
      "0.050857599278 [ARTS]\n",
      "0.0806253138462 [ARTS]\n",
      "[('ARTS', 3)]\n",
      "prediction = ARTS\n",
      "category   = ARTS \n",
      "\n",
      "\n",
      "0.037712378732 [ARTS]\n",
      "0.0358356031121 [ARTS]\n",
      "0.0474665286392 [SPORTS]\n",
      "[('ARTS', 2), ('SPORTS', 1)]\n",
      "prediction = ARTS\n",
      "category   = ARTS \n",
      "\n",
      "\n",
      "0.056674674149 [ARTS]\n",
      "0.0312001216295 [SPORTS]\n",
      "0.0802382234245 [SPORTS]\n",
      "[('SPORTS', 2), ('ARTS', 1)]\n",
      "prediction = SPORTS\n",
      "category   = ARTS \n",
      "\n",
      "\n"
     ]
    }
   ],
   "source": [
    "def set_top(cosine,category,tops,k):\n",
    "    keys = tops.keys()\n",
    "    \n",
    "    if len(keys)<k:\n",
    "        tops[cosine] = category\n",
    "    else:\n",
    "        for key in keys:\n",
    "            if cosine>key:\n",
    "                tops.pop(key)\n",
    "                tops[cosine] = category\n",
    "            break;\n",
    "    return tops\n",
    "\n",
    "def get_category(neighbors):\n",
    "    count={}\n",
    "    for category in neighbors:\n",
    "        if (category in count.keys()):\n",
    "            count[category] += 1\n",
    "        else:\n",
    "            count[category] = 1\n",
    "    \n",
    "    sorted_count = sorted(count.items(), key=operator.itemgetter(1),reverse=True)\n",
    "    print (sorted_count)\n",
    "    return sorted_count[0][0]\n",
    "\n",
    "def knn (training,testing, tfidf, k):\n",
    "    for doc in testing:\n",
    "        keys = training.keys()\n",
    "        index_unknw = list(keys).index(doc)\n",
    "        neighbors = {}\n",
    "        for key in keys:\n",
    "            if (not training[key].startswith('NONE')):\n",
    "                index = list(keys).index(key)\n",
    "                cosine = cosine_similarity(tfidf[index_unknw:index_unknw+1], tfidf[index:index+1])[0][0]\n",
    "                neighbors = set_top(cosine,training[key],neighbors,k)\n",
    "                \n",
    "        for key in neighbors:\n",
    "            print ('%s [%s]' % (key,neighbors[key]))\n",
    "        print ('prediction = %s' % get_category(neighbors.values()))\n",
    "        print ('category   = %s' % training[doc][5:])\n",
    "        print ('\\n')\n",
    "        \n",
    "knn(training,testing,tfidf,3)"
   ]
  },
  {
   "cell_type": "code",
   "execution_count": null,
   "metadata": {
    "collapsed": true
   },
   "outputs": [],
   "source": []
  }
 ],
 "metadata": {
  "anaconda-cloud": {},
  "kernelspec": {
   "display_name": "Python 3",
   "language": "python",
   "name": "python3"
  },
  "language_info": {
   "codemirror_mode": {
    "name": "ipython",
    "version": 3
   },
   "file_extension": ".py",
   "mimetype": "text/x-python",
   "name": "python",
   "nbconvert_exporter": "python",
   "pygments_lexer": "ipython3",
   "version": "3.8.2"
  }
 },
 "nbformat": 4,
 "nbformat_minor": 1
}
